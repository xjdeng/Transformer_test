{
 "cells": [
  {
   "cell_type": "code",
   "execution_count": 1,
   "metadata": {},
   "outputs": [],
   "source": [
    "import os\n",
    "import requests"
   ]
  },
  {
   "cell_type": "code",
   "execution_count": 2,
   "metadata": {},
   "outputs": [
    {
     "name": "stderr",
     "output_type": "stream",
     "text": [
      "Cloning into 'grover'...\n"
     ]
    }
   ],
   "source": [
    "!git clone https://github.com/rowanz/grover.git"
   ]
  },
  {
   "cell_type": "code",
   "execution_count": 3,
   "metadata": {},
   "outputs": [],
   "source": [
    "model_type = \"mega\"\n",
    "model_dir = os.path.join('grover/models', model_type)\n",
    "if not os.path.exists(model_dir):\n",
    "    os.makedirs(model_dir)"
   ]
  },
  {
   "cell_type": "code",
   "execution_count": 4,
   "metadata": {},
   "outputs": [
    {
     "name": "stdout",
     "output_type": "stream",
     "text": [
      "Just downloaded mega/model.ckpt.data-00000-of-00001!\n",
      "Just downloaded mega/model.ckpt.index!\n",
      "Just downloaded mega/model.ckpt.meta!\n"
     ]
    }
   ],
   "source": [
    "for ext in ['data-00000-of-00001', 'index', 'meta']:\n",
    "    r = requests.get(f'https://storage.googleapis.com/grover-models/{model_type}/model.ckpt.{ext}', stream=True)\n",
    "    with open(os.path.join(model_dir, f'model.ckpt.{ext}'), 'wb') as f:\n",
    "        file_size = int(r.headers[\"content-length\"])\n",
    "        if file_size < 1000:\n",
    "            raise ValueError(\"File doesn't exist? idk\")\n",
    "        chunk_size = 1000\n",
    "        for chunk in r.iter_content(chunk_size=chunk_size):\n",
    "            f.write(chunk)\n",
    "    print(f\"Just downloaded {model_type}/model.ckpt.{ext}!\", flush=True)"
   ]
  },
  {
   "cell_type": "code",
   "execution_count": null,
   "metadata": {},
   "outputs": [],
   "source": []
  }
 ],
 "metadata": {
  "kernelspec": {
   "display_name": "Python 3",
   "language": "python",
   "name": "python3"
  },
  "language_info": {
   "codemirror_mode": {
    "name": "ipython",
    "version": 3
   },
   "file_extension": ".py",
   "mimetype": "text/x-python",
   "name": "python",
   "nbconvert_exporter": "python",
   "pygments_lexer": "ipython3",
   "version": "3.6.8"
  }
 },
 "nbformat": 4,
 "nbformat_minor": 2
}
